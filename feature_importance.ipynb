{
 "cells": [
  {
   "cell_type": "code",
   "execution_count": 1,
   "metadata": {},
   "outputs": [],
   "source": [
    "import pandas as pd\n",
    "import numpy as np\n",
    "import matplotlib.pyplot as plt\n",
    "import plotly\n",
    "import plotly.plotly as py\n",
    "from plotly import graph_objs as go\n",
    "plotly.tools.set_credentials_file(username='sambk17', api_key='Uj0EKSS5mTlt9fameBus')\n",
    "\n",
    "%matplotlib inline"
   ]
  },
  {
   "cell_type": "code",
   "execution_count": 2,
   "metadata": {},
   "outputs": [],
   "source": [
    "home_page = pd.read_csv('home_page_table.csv')\n",
    "user = pd.read_csv('user_table.csv')\n",
    "payment = pd.read_csv('payment_page_table.csv')\n",
    "payment_confirmation = pd.read_csv('payment_confirmation_table.csv')\n",
    "search = pd.read_csv('search_page_table.csv')\n",
    "\n",
    "user['date'] = pd.to_datetime(user['date'])\n",
    "\n",
    "user['day_of_week'] = user['date'].dt.day_name()\n",
    "user['day_of_month'] = user['date'].dt.day\n",
    "user['month'] = user['date'].dt.month\n",
    "\n",
    "df = user.merge(home_page, on='user_id', how='left').merge(search, on='user_id', how='left').merge(payment, on='user_id', how='left').merge(payment_confirmation, on='user_id', how='left')\n",
    "df.columns = ['user_id', 'date', \n",
    "              'device', 'sex', \n",
    "              'day_of_week','day_of_month',\n",
    "              'month','home_page',\n",
    "              'search_page','payment_page',\n",
    "              'payment_confirmation_page']"
   ]
  },
  {
   "cell_type": "code",
   "execution_count": 3,
   "metadata": {},
   "outputs": [],
   "source": [
    "d = {'home_page':1, 'search_page':1,'payment_page':1,'payment_confirmation_page':1}\n",
    "df.replace(d, inplace=True)\n",
    "df.fillna(value=0,inplace=True)\n",
    "\n",
    "df[['home_page','search_page','payment_page','payment_confirmation_page']] = df[['home_page','search_page','payment_page','payment_confirmation_page']].astype(int)"
   ]
  },
  {
   "cell_type": "code",
   "execution_count": 4,
   "metadata": {},
   "outputs": [],
   "source": [
    "devices = pd.get_dummies(df['device'], drop_first=True)\n",
    "sexes = pd.get_dummies(df['sex'], drop_first=True)\n",
    "days_of_week = pd.get_dummies(df['day_of_week'], drop_first=True)\n",
    "days_of_month = pd.get_dummies(df['day_of_month'], drop_first=True)\n",
    "months = pd.get_dummies(df['month'], prefix='month_', drop_first=True)"
   ]
  },
  {
   "cell_type": "code",
   "execution_count": 5,
   "metadata": {},
   "outputs": [],
   "source": [
    "output = df.drop(labels=['user_id','date','device','sex','day_of_week','day_of_month','month'], axis=1)\n",
    "userid = df.drop(labels=['date','device','sex','day_of_week','day_of_month','month','home_page','search_page','payment_page','payment_confirmation_page'], axis=1)\n",
    "inputs = userid.join([devices,sexes, days_of_week, days_of_month, months]).drop(labels=['user_id'], axis=1)"
   ]
  },
  {
   "cell_type": "markdown",
   "metadata": {},
   "source": [
    "### Random Forest/Decision Trees - Feature Importance"
   ]
  },
  {
   "cell_type": "code",
   "execution_count": 29,
   "metadata": {},
   "outputs": [],
   "source": [
    "from sklearn.ensemble import RandomForestClassifier\n",
    "from sklearn.tree import DecisionTreeClassifier\n",
    "from sklearn.model_selection import train_test_split\n",
    "from sklearn.metrics import classification_report, confusion_matrix, accuracy_score\n",
    "from sklearn import metrics"
   ]
  },
  {
   "cell_type": "code",
   "execution_count": 7,
   "metadata": {},
   "outputs": [],
   "source": [
    "clf = DecisionTreeClassifier(random_state=0)\n",
    "rfc = RandomForestClassifier(n_estimators=10)"
   ]
  },
  {
   "cell_type": "code",
   "execution_count": 31,
   "metadata": {},
   "outputs": [
    {
     "data": {
      "text/html": [
       "<div>\n",
       "<style scoped>\n",
       "    .dataframe tbody tr th:only-of-type {\n",
       "        vertical-align: middle;\n",
       "    }\n",
       "\n",
       "    .dataframe tbody tr th {\n",
       "        vertical-align: top;\n",
       "    }\n",
       "\n",
       "    .dataframe thead th {\n",
       "        text-align: right;\n",
       "    }\n",
       "</style>\n",
       "<table border=\"1\" class=\"dataframe\">\n",
       "  <thead>\n",
       "    <tr style=\"text-align: right;\">\n",
       "      <th></th>\n",
       "      <th>home_page</th>\n",
       "      <th>search_page</th>\n",
       "      <th>payment_page</th>\n",
       "      <th>payment_confirmation_page</th>\n",
       "    </tr>\n",
       "  </thead>\n",
       "  <tbody>\n",
       "    <tr>\n",
       "      <th>0</th>\n",
       "      <td>1</td>\n",
       "      <td>0</td>\n",
       "      <td>0</td>\n",
       "      <td>0</td>\n",
       "    </tr>\n",
       "    <tr>\n",
       "      <th>1</th>\n",
       "      <td>1</td>\n",
       "      <td>0</td>\n",
       "      <td>0</td>\n",
       "      <td>0</td>\n",
       "    </tr>\n",
       "  </tbody>\n",
       "</table>\n",
       "</div>"
      ],
      "text/plain": [
       "   home_page  search_page  payment_page  payment_confirmation_page\n",
       "0          1            0             0                          0\n",
       "1          1            0             0                          0"
      ]
     },
     "execution_count": 31,
     "metadata": {},
     "output_type": "execute_result"
    }
   ],
   "source": [
    "output.head(2)"
   ]
  },
  {
   "cell_type": "code",
   "execution_count": 69,
   "metadata": {},
   "outputs": [],
   "source": [
    "X = inputs.values\n",
    "y = output['payment_confirmation_page'].values"
   ]
  },
  {
   "cell_type": "code",
   "execution_count": 70,
   "metadata": {},
   "outputs": [],
   "source": [
    "X_train, X_test, y_train, y_test = train_test_split(X, y, test_size=0.33, random_state=4612)"
   ]
  },
  {
   "cell_type": "code",
   "execution_count": 71,
   "metadata": {},
   "outputs": [],
   "source": [
    "clf_model = clf.fit(X_train, y_train)\n",
    "rfc_model = rfc.fit(X_train, y_train)"
   ]
  },
  {
   "cell_type": "code",
   "execution_count": 72,
   "metadata": {},
   "outputs": [],
   "source": [
    "y_pred_clf = clf.predict(X_test)\n",
    "y_pred_rfc = rfc.predict(X_test)"
   ]
  },
  {
   "cell_type": "code",
   "execution_count": 73,
   "metadata": {},
   "outputs": [
    {
     "data": {
      "text/plain": [
       "0"
      ]
     },
     "execution_count": 73,
     "metadata": {},
     "output_type": "execute_result"
    }
   ],
   "source": [
    "sum(y_pred_rfc == 1)"
   ]
  },
  {
   "cell_type": "code",
   "execution_count": 74,
   "metadata": {},
   "outputs": [
    {
     "name": "stdout",
     "output_type": "stream",
     "text": [
      "0.004827031375703942\n",
      "0.004827031375703942\n"
     ]
    }
   ],
   "source": [
    "print(metrics.mean_absolute_error(y_test, y_pred_clf))\n",
    "print(metrics.mean_squared_error(y_test, y_pred_rfc))"
   ]
  },
  {
   "cell_type": "code",
   "execution_count": 75,
   "metadata": {},
   "outputs": [
    {
     "name": "stdout",
     "output_type": "stream",
     "text": [
      "[[29688     0]\n",
      " [  144     0]]\n",
      "0.995172968624296\n"
     ]
    }
   ],
   "source": [
    "print(confusion_matrix(y_test,y_pred_rfc))   \n",
    "print(accuracy_score(y_test, y_pred_rfc))  "
   ]
  },
  {
   "cell_type": "code",
   "execution_count": null,
   "metadata": {},
   "outputs": [],
   "source": []
  }
 ],
 "metadata": {
  "kernelspec": {
   "display_name": "Python 3",
   "language": "python",
   "name": "python3"
  },
  "language_info": {
   "codemirror_mode": {
    "name": "ipython",
    "version": 3
   },
   "file_extension": ".py",
   "mimetype": "text/x-python",
   "name": "python",
   "nbconvert_exporter": "python",
   "pygments_lexer": "ipython3",
   "version": "3.6.6"
  }
 },
 "nbformat": 4,
 "nbformat_minor": 2
}
