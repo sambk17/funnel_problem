{
 "cells": [
  {
   "cell_type": "code",
   "execution_count": 1,
   "metadata": {},
   "outputs": [],
   "source": [
    "import pandas as pd\n",
    "import numpy as np\n",
    "import matplotlib.pyplot as plt\n",
    "import plotly\n",
    "import plotly.plotly as py\n",
    "from plotly import graph_objs as go\n",
    "plotly.tools.set_credentials_file(username='sambk17', api_key='Uj0EKSS5mTlt9fameBus')\n",
    "\n",
    "%matplotlib inline"
   ]
  },
  {
   "cell_type": "code",
   "execution_count": 2,
   "metadata": {},
   "outputs": [],
   "source": [
    "home_page = pd.read_csv('home_page_table.csv')\n",
    "user = pd.read_csv('user_table.csv')\n",
    "payment = pd.read_csv('payment_page_table.csv')\n",
    "payment_confirmation = pd.read_csv('payment_confirmation_table.csv')\n",
    "search = pd.read_csv('search_page_table.csv')\n",
    "\n",
    "user['date'] = pd.to_datetime(user['date'])\n",
    "\n",
    "user['day_of_week'] = user['date'].dt.day_name()\n",
    "user['day_of_month'] = user['date'].dt.day\n",
    "user['month'] = user['date'].dt.month\n",
    "\n",
    "df = user.merge(home_page, on='user_id', how='left').merge(search, on='user_id', how='left').merge(payment, on='user_id', how='left').merge(payment_confirmation, on='user_id', how='left')\n",
    "df.columns = ['user_id', 'date', \n",
    "              'device', 'sex', \n",
    "              'day_of_week','day_of_month',\n",
    "              'month','home_page',\n",
    "              'search_page','payment_page',\n",
    "              'payment_confirmation_page']"
   ]
  },
  {
   "cell_type": "code",
   "execution_count": 3,
   "metadata": {},
   "outputs": [],
   "source": [
    "d = {'home_page':1, 'search_page':1,'payment_page':1,'payment_confirmation_page':1}\n",
    "df.replace(d, inplace=True)\n",
    "df.fillna(value=0,inplace=True)\n",
    "\n",
    "df[['home_page','search_page','payment_page','payment_confirmation_page']] = df[['home_page','search_page','payment_page','payment_confirmation_page']].astype(int)"
   ]
  },
  {
   "cell_type": "code",
   "execution_count": 4,
   "metadata": {},
   "outputs": [],
   "source": [
    "devices = pd.get_dummies(df['device'], drop_first=True)\n",
    "sexes = pd.get_dummies(df['sex'], drop_first=True)\n",
    "days_of_week = pd.get_dummies(df['day_of_week'], drop_first=True)\n",
    "days_of_month = pd.get_dummies(df['day_of_month'], drop_first=True)\n",
    "months = pd.get_dummies(df['month'], prefix='month_', drop_first=True)"
   ]
  },
  {
   "cell_type": "code",
   "execution_count": 5,
   "metadata": {},
   "outputs": [],
   "source": [
    "output = df.drop(labels=['user_id','date','device','sex','day_of_week','day_of_month','month'], axis=1)\n",
    "userid = df.drop(labels=['date','device','sex','day_of_week','day_of_month','month','home_page','search_page','payment_page','payment_confirmation_page'], axis=1)\n",
    "inputs = userid.join([devices,sexes, days_of_week, days_of_month, months])"
   ]
  },
  {
   "cell_type": "markdown",
   "metadata": {},
   "source": [
    "### Random Forest/Decision Trees - Feature Importance"
   ]
  },
  {
   "cell_type": "code",
   "execution_count": null,
   "metadata": {},
   "outputs": [],
   "source": []
  }
 ],
 "metadata": {
  "kernelspec": {
   "display_name": "Python 3",
   "language": "python",
   "name": "python3"
  },
  "language_info": {
   "codemirror_mode": {
    "name": "ipython",
    "version": 3
   },
   "file_extension": ".py",
   "mimetype": "text/x-python",
   "name": "python",
   "nbconvert_exporter": "python",
   "pygments_lexer": "ipython3",
   "version": "3.6.6"
  }
 },
 "nbformat": 4,
 "nbformat_minor": 2
}
