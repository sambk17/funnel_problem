{
 "cells": [
  {
   "cell_type": "code",
   "execution_count": 2,
   "metadata": {},
   "outputs": [],
   "source": [
    "import pandas as pd\n",
    "import numpy as np\n",
    "import matplotlib.pyplot as plt\n",
    "import plotly\n",
    "import plotly.plotly as py\n",
    "from plotly import graph_objs as go\n",
    "plotly.tools.set_credentials_file(username='sambk17', api_key='Uj0EKSS5mTlt9fameBus')\n",
    "\n",
    "%matplotlib inline"
   ]
  },
  {
   "cell_type": "markdown",
   "metadata": {},
   "source": [
    "### Combine DataFrames"
   ]
  },
  {
   "cell_type": "code",
   "execution_count": 3,
   "metadata": {},
   "outputs": [],
   "source": [
    "home_page = pd.read_csv('home_page_table.csv')\n",
    "user = pd.read_csv('user_table.csv')\n",
    "payment = pd.read_csv('payment_page_table.csv')\n",
    "payment_confirmation = pd.read_csv('payment_confirmation_table.csv')\n",
    "search = pd.read_csv('search_page_table.csv')"
   ]
  },
  {
   "cell_type": "code",
   "execution_count": 4,
   "metadata": {},
   "outputs": [],
   "source": [
    "user['date'] = pd.to_datetime(user['date'])\n",
    "\n",
    "user['day_of_week'] = user['date'].dt.day_name()\n",
    "user['day_of_month'] = user['date'].dt.day\n",
    "user['month'] = user['date'].dt.month"
   ]
  },
  {
   "cell_type": "code",
   "execution_count": 5,
   "metadata": {},
   "outputs": [
    {
     "data": {
      "text/html": [
       "<div>\n",
       "<style scoped>\n",
       "    .dataframe tbody tr th:only-of-type {\n",
       "        vertical-align: middle;\n",
       "    }\n",
       "\n",
       "    .dataframe tbody tr th {\n",
       "        vertical-align: top;\n",
       "    }\n",
       "\n",
       "    .dataframe thead th {\n",
       "        text-align: right;\n",
       "    }\n",
       "</style>\n",
       "<table border=\"1\" class=\"dataframe\">\n",
       "  <thead>\n",
       "    <tr style=\"text-align: right;\">\n",
       "      <th></th>\n",
       "      <th>user_id</th>\n",
       "      <th>date</th>\n",
       "      <th>device</th>\n",
       "      <th>sex</th>\n",
       "      <th>day_of_week</th>\n",
       "      <th>day_of_month</th>\n",
       "      <th>month</th>\n",
       "    </tr>\n",
       "  </thead>\n",
       "  <tbody>\n",
       "    <tr>\n",
       "      <th>0</th>\n",
       "      <td>450007</td>\n",
       "      <td>2015-02-28</td>\n",
       "      <td>Desktop</td>\n",
       "      <td>Female</td>\n",
       "      <td>Saturday</td>\n",
       "      <td>28</td>\n",
       "      <td>2</td>\n",
       "    </tr>\n",
       "    <tr>\n",
       "      <th>1</th>\n",
       "      <td>756838</td>\n",
       "      <td>2015-01-13</td>\n",
       "      <td>Desktop</td>\n",
       "      <td>Male</td>\n",
       "      <td>Tuesday</td>\n",
       "      <td>13</td>\n",
       "      <td>1</td>\n",
       "    </tr>\n",
       "  </tbody>\n",
       "</table>\n",
       "</div>"
      ],
      "text/plain": [
       "   user_id       date   device     sex day_of_week  day_of_month  month\n",
       "0   450007 2015-02-28  Desktop  Female    Saturday            28      2\n",
       "1   756838 2015-01-13  Desktop    Male     Tuesday            13      1"
      ]
     },
     "execution_count": 5,
     "metadata": {},
     "output_type": "execute_result"
    }
   ],
   "source": [
    "user.head(2)"
   ]
  },
  {
   "cell_type": "code",
   "execution_count": 6,
   "metadata": {},
   "outputs": [],
   "source": [
    "df = user.merge(home_page, on='user_id', how='left').merge(search, on='user_id', how='left').merge(payment, on='user_id', how='left').merge(payment_confirmation, on='user_id', how='left')\n",
    "df.columns = ['user_id', 'date', \n",
    "              'device', 'sex', \n",
    "              'day_of_week','day_of_month',\n",
    "              'month','home_page',\n",
    "              'search_page','payment_page',\n",
    "              'payment_confirmation_page']"
   ]
  },
  {
   "cell_type": "code",
   "execution_count": 7,
   "metadata": {},
   "outputs": [],
   "source": [
    "d = {'home_page':1, 'search_page':1,'payment_page':1,'payment_confirmation_page':1}\n",
    "df.replace(d, inplace=True)\n",
    "df.fillna(value=0,inplace=True)"
   ]
  },
  {
   "cell_type": "code",
   "execution_count": 8,
   "metadata": {},
   "outputs": [],
   "source": [
    "df[['home_page','search_page','payment_page','payment_confirmation_page']] = df[['home_page','search_page','payment_page','payment_confirmation_page']].astype(int)"
   ]
  },
  {
   "cell_type": "code",
   "execution_count": 9,
   "metadata": {},
   "outputs": [
    {
     "data": {
      "text/html": [
       "<div>\n",
       "<style scoped>\n",
       "    .dataframe tbody tr th:only-of-type {\n",
       "        vertical-align: middle;\n",
       "    }\n",
       "\n",
       "    .dataframe tbody tr th {\n",
       "        vertical-align: top;\n",
       "    }\n",
       "\n",
       "    .dataframe thead th {\n",
       "        text-align: right;\n",
       "    }\n",
       "</style>\n",
       "<table border=\"1\" class=\"dataframe\">\n",
       "  <thead>\n",
       "    <tr style=\"text-align: right;\">\n",
       "      <th></th>\n",
       "      <th>user_id</th>\n",
       "      <th>date</th>\n",
       "      <th>device</th>\n",
       "      <th>sex</th>\n",
       "      <th>day_of_week</th>\n",
       "      <th>day_of_month</th>\n",
       "      <th>month</th>\n",
       "      <th>home_page</th>\n",
       "      <th>search_page</th>\n",
       "      <th>payment_page</th>\n",
       "      <th>payment_confirmation_page</th>\n",
       "    </tr>\n",
       "  </thead>\n",
       "  <tbody>\n",
       "    <tr>\n",
       "      <th>0</th>\n",
       "      <td>450007</td>\n",
       "      <td>2015-02-28</td>\n",
       "      <td>Desktop</td>\n",
       "      <td>Female</td>\n",
       "      <td>Saturday</td>\n",
       "      <td>28</td>\n",
       "      <td>2</td>\n",
       "      <td>1</td>\n",
       "      <td>0</td>\n",
       "      <td>0</td>\n",
       "      <td>0</td>\n",
       "    </tr>\n",
       "    <tr>\n",
       "      <th>1</th>\n",
       "      <td>756838</td>\n",
       "      <td>2015-01-13</td>\n",
       "      <td>Desktop</td>\n",
       "      <td>Male</td>\n",
       "      <td>Tuesday</td>\n",
       "      <td>13</td>\n",
       "      <td>1</td>\n",
       "      <td>1</td>\n",
       "      <td>0</td>\n",
       "      <td>0</td>\n",
       "      <td>0</td>\n",
       "    </tr>\n",
       "    <tr>\n",
       "      <th>2</th>\n",
       "      <td>568983</td>\n",
       "      <td>2015-04-09</td>\n",
       "      <td>Desktop</td>\n",
       "      <td>Male</td>\n",
       "      <td>Thursday</td>\n",
       "      <td>9</td>\n",
       "      <td>4</td>\n",
       "      <td>1</td>\n",
       "      <td>1</td>\n",
       "      <td>0</td>\n",
       "      <td>0</td>\n",
       "    </tr>\n",
       "    <tr>\n",
       "      <th>3</th>\n",
       "      <td>190794</td>\n",
       "      <td>2015-02-18</td>\n",
       "      <td>Desktop</td>\n",
       "      <td>Female</td>\n",
       "      <td>Wednesday</td>\n",
       "      <td>18</td>\n",
       "      <td>2</td>\n",
       "      <td>1</td>\n",
       "      <td>1</td>\n",
       "      <td>0</td>\n",
       "      <td>0</td>\n",
       "    </tr>\n",
       "    <tr>\n",
       "      <th>4</th>\n",
       "      <td>537909</td>\n",
       "      <td>2015-01-15</td>\n",
       "      <td>Desktop</td>\n",
       "      <td>Male</td>\n",
       "      <td>Thursday</td>\n",
       "      <td>15</td>\n",
       "      <td>1</td>\n",
       "      <td>1</td>\n",
       "      <td>0</td>\n",
       "      <td>0</td>\n",
       "      <td>0</td>\n",
       "    </tr>\n",
       "    <tr>\n",
       "      <th>5</th>\n",
       "      <td>993454</td>\n",
       "      <td>2015-03-03</td>\n",
       "      <td>Desktop</td>\n",
       "      <td>Male</td>\n",
       "      <td>Tuesday</td>\n",
       "      <td>3</td>\n",
       "      <td>3</td>\n",
       "      <td>1</td>\n",
       "      <td>0</td>\n",
       "      <td>0</td>\n",
       "      <td>0</td>\n",
       "    </tr>\n",
       "    <tr>\n",
       "      <th>6</th>\n",
       "      <td>377150</td>\n",
       "      <td>2015-04-15</td>\n",
       "      <td>Desktop</td>\n",
       "      <td>Female</td>\n",
       "      <td>Wednesday</td>\n",
       "      <td>15</td>\n",
       "      <td>4</td>\n",
       "      <td>1</td>\n",
       "      <td>1</td>\n",
       "      <td>0</td>\n",
       "      <td>0</td>\n",
       "    </tr>\n",
       "    <tr>\n",
       "      <th>7</th>\n",
       "      <td>137258</td>\n",
       "      <td>2015-01-27</td>\n",
       "      <td>Mobile</td>\n",
       "      <td>Male</td>\n",
       "      <td>Tuesday</td>\n",
       "      <td>27</td>\n",
       "      <td>1</td>\n",
       "      <td>1</td>\n",
       "      <td>0</td>\n",
       "      <td>0</td>\n",
       "      <td>0</td>\n",
       "    </tr>\n",
       "    <tr>\n",
       "      <th>8</th>\n",
       "      <td>608249</td>\n",
       "      <td>2015-04-12</td>\n",
       "      <td>Desktop</td>\n",
       "      <td>Female</td>\n",
       "      <td>Sunday</td>\n",
       "      <td>12</td>\n",
       "      <td>4</td>\n",
       "      <td>1</td>\n",
       "      <td>0</td>\n",
       "      <td>0</td>\n",
       "      <td>0</td>\n",
       "    </tr>\n",
       "    <tr>\n",
       "      <th>9</th>\n",
       "      <td>615615</td>\n",
       "      <td>2015-02-24</td>\n",
       "      <td>Mobile</td>\n",
       "      <td>Female</td>\n",
       "      <td>Tuesday</td>\n",
       "      <td>24</td>\n",
       "      <td>2</td>\n",
       "      <td>1</td>\n",
       "      <td>1</td>\n",
       "      <td>0</td>\n",
       "      <td>0</td>\n",
       "    </tr>\n",
       "  </tbody>\n",
       "</table>\n",
       "</div>"
      ],
      "text/plain": [
       "   user_id       date   device     sex day_of_week  day_of_month  month  \\\n",
       "0   450007 2015-02-28  Desktop  Female    Saturday            28      2   \n",
       "1   756838 2015-01-13  Desktop    Male     Tuesday            13      1   \n",
       "2   568983 2015-04-09  Desktop    Male    Thursday             9      4   \n",
       "3   190794 2015-02-18  Desktop  Female   Wednesday            18      2   \n",
       "4   537909 2015-01-15  Desktop    Male    Thursday            15      1   \n",
       "5   993454 2015-03-03  Desktop    Male     Tuesday             3      3   \n",
       "6   377150 2015-04-15  Desktop  Female   Wednesday            15      4   \n",
       "7   137258 2015-01-27   Mobile    Male     Tuesday            27      1   \n",
       "8   608249 2015-04-12  Desktop  Female      Sunday            12      4   \n",
       "9   615615 2015-02-24   Mobile  Female     Tuesday            24      2   \n",
       "\n",
       "   home_page  search_page  payment_page  payment_confirmation_page  \n",
       "0          1            0             0                          0  \n",
       "1          1            0             0                          0  \n",
       "2          1            1             0                          0  \n",
       "3          1            1             0                          0  \n",
       "4          1            0             0                          0  \n",
       "5          1            0             0                          0  \n",
       "6          1            1             0                          0  \n",
       "7          1            0             0                          0  \n",
       "8          1            0             0                          0  \n",
       "9          1            1             0                          0  "
      ]
     },
     "execution_count": 9,
     "metadata": {},
     "output_type": "execute_result"
    }
   ],
   "source": [
    "df.head(10)"
   ]
  },
  {
   "cell_type": "markdown",
   "metadata": {},
   "source": [
    "### Visual Insights"
   ]
  },
  {
   "cell_type": "code",
   "execution_count": 15,
   "metadata": {},
   "outputs": [],
   "source": [
    "#Bar Chart of Each Step\n",
    "home_count = len(df[df['home_page'] == 1])\n",
    "search_count = len(df[df['search_page'] == 1])\n",
    "payment_count = len(df[df['payment_page'] == 1])\n",
    "payment_confirmation_count = len(df[df['payment_confirmation_page'] == 1])"
   ]
  },
  {
   "cell_type": "code",
   "execution_count": 21,
   "metadata": {},
   "outputs": [
    {
     "data": {
      "image/png": "[encoded data removed]",
      "text/plain": [
       "<Figure size 720x504 with 1 Axes>"
      ]
     },
     "metadata": {},
     "output_type": "display_data"
    }
   ],
   "source": [
    "objects = ('home_page', 'search_page', 'payment_page', 'payment_confirmation_page')\n",
    "y_pos = np.arange(len(objects))\n",
    "counts = [home_count, search_count, payment_count, payment_confirmation_count][::-1]\n",
    "\n",
    "fig, ax = plt.subplots(figsize = (10,7))\n",
    "\n",
    "plt.barh(y_pos, counts, align='center', alpha=0.5)\n",
    "plt.yticks(y_pos, objects[::-1])\n",
    "plt.xlabel('Click-Thru')\n",
    "plt.title('Funnel Analysis - Overall')\n",
    " \n",
    "plt.show()"
   ]
  },
  {
   "cell_type": "code",
   "execution_count": 32,
   "metadata": {},
   "outputs": [],
   "source": [
    "# chart stages data\n",
    "values = [home_count, search_count, payment_count, payment_confirmation_count]\n",
    "phases = ['home_page', 'search_page', 'payment_page', 'payment_confirmation_page']\n",
    "\n",
    "# color of each funnel section\n",
    "colors = ['rgb(32,155,160)', 'rgb(253,93,124)', 'rgb(28,119,139)', 'rgb(182,231,235)', 'rgb(35,154,160)']"
   ]
  },
  {
   "cell_type": "code",
   "execution_count": 33,
   "metadata": {},
   "outputs": [],
   "source": [
    "n_phase = len(phases)\n",
    "plot_width = 400\n",
    "\n",
    "# height of a section and difference between sections \n",
    "section_h = 100\n",
    "section_d = 10\n",
    "\n",
    "# multiplication factor to calculate the width of other sections\n",
    "unit_width = plot_width / max(values)\n",
    "\n",
    "# width of each funnel section relative to the plot width\n",
    "phase_w = [int(value * unit_width) for value in values]\n",
    "\n",
    "# plot height based on the number of sections and the gap in between them\n",
    "height = section_h * n_phase + section_d * (n_phase - 1)"
   ]
  },
  {
   "cell_type": "code",
   "execution_count": 34,
   "metadata": {},
   "outputs": [],
   "source": [
    "# list containing all the plot shapes\n",
    "shapes = []\n",
    "\n",
    "# list containing the Y-axis location for each section's name and value text\n",
    "label_y = []\n",
    "\n",
    "for i in range(n_phase):\n",
    "        if (i == n_phase-1):\n",
    "                points = [phase_w[i] / 2, height, phase_w[i] / 2, height - section_h]\n",
    "        else:\n",
    "                points = [phase_w[i] / 2, height, phase_w[i+1] / 2, height - section_h]\n",
    "\n",
    "        path = 'M {0} {1} L {2} {3} L -{2} {3} L -{0} {1} Z'.format(*points)\n",
    "\n",
    "        shape = {\n",
    "                'type': 'path',\n",
    "                'path': path,\n",
    "                'fillcolor': colors[i],\n",
    "                'line': {\n",
    "                    'width': 1,\n",
    "                    'color': colors[i]\n",
    "                }\n",
    "        }\n",
    "        shapes.append(shape)\n",
    "        \n",
    "        # Y-axis location for this section's details (text)\n",
    "        label_y.append(height - (section_h / 2))\n",
    "\n",
    "        height = height - (section_h + section_d)"
   ]
  },
  {
   "cell_type": "code",
   "execution_count": 35,
   "metadata": {},
   "outputs": [
    {
     "data": {
      "text/html": [
       "<iframe id=\"igraph\" scrolling=\"no\" style=\"border:none;\" seamless=\"seamless\" src=\"https://plot.ly/~sambk17/2.embed\" height=\"560px\" width=\"800px\"></iframe>"
      ],
      "text/plain": [
       "<plotly.tools.PlotlyDisplay object>"
      ]
     },
     "execution_count": 35,
     "metadata": {},
     "output_type": "execute_result"
    }
   ],
   "source": [
    "# For phase names\n",
    "label_trace = go.Scatter(\n",
    "    x=[-350]*n_phase,\n",
    "    y=label_y,\n",
    "    mode='text',\n",
    "    text=phases,\n",
    "    textfont=dict(\n",
    "        color='rgb(200,200,200)',\n",
    "        size=15\n",
    "    )\n",
    ")\n",
    " \n",
    "# For phase values\n",
    "value_trace = go.Scatter(\n",
    "    x=[350]*n_phase,\n",
    "    y=label_y,\n",
    "    mode='text',\n",
    "    text=values,\n",
    "    textfont=dict(\n",
    "        color='rgb(200,200,200)',\n",
    "        size=15\n",
    "    )\n",
    ")\n",
    "\n",
    "data = [label_trace, value_trace]\n",
    " \n",
    "layout = go.Layout(\n",
    "    title=\"<b>Funnel Chart</b>\",\n",
    "    titlefont=dict(\n",
    "        size=20,\n",
    "        color='rgb(203,203,203)'\n",
    "    ),\n",
    "    shapes=shapes,\n",
    "    height=560,\n",
    "    width=800,\n",
    "    showlegend=False,\n",
    "    paper_bgcolor='rgba(44,58,71,1)',\n",
    "    plot_bgcolor='rgba(44,58,71,1)',\n",
    "    xaxis=dict(\n",
    "        showticklabels=False,\n",
    "        zeroline=False,\n",
    "    ),\n",
    "    yaxis=dict(\n",
    "        showticklabels=False,\n",
    "        zeroline=False\n",
    "    )\n",
    ")\n",
    " \n",
    "fig = go.Figure(data=data, layout=layout)\n",
    "py.iplot(fig)"
   ]
  },
  {
   "cell_type": "code",
   "execution_count": null,
   "metadata": {},
   "outputs": [],
   "source": []
  },
  {
   "cell_type": "markdown",
   "metadata": {},
   "source": [
    "### One Hot Encode"
   ]
  },
  {
   "cell_type": "markdown",
   "metadata": {},
   "source": [
    "* device\n",
    "* sex\n",
    "* day_of_week\n",
    "* day_of month\n",
    "* month"
   ]
  },
  {
   "cell_type": "code",
   "execution_count": 46,
   "metadata": {},
   "outputs": [],
   "source": [
    "devices = pd.get_dummies(df['device'], drop_first=True)\n",
    "sexes = pd.get_dummies(df['sex'], drop_first=True)\n",
    "days_of_week = pd.get_dummies(df['day_of_week'], drop_first=True)\n",
    "days_of_month = pd.get_dummies(df['day_of_month'], drop_first=True)\n",
    "months = pd.get_dummies(df['month'], prefix='month_', drop_first=True)"
   ]
  },
  {
   "cell_type": "code",
   "execution_count": 48,
   "metadata": {},
   "outputs": [],
   "source": [
    "output = df.drop(labels=['user_id','date','device','sex','day_of_week','day_of_month','month'], axis=1)\n",
    "userid = df.drop(labels=['date','device','sex','day_of_week','day_of_month','month','home_page','search_page','payment_page','payment_confirmation_page'], axis=1)\n",
    "inputs = userid.join([devices,sexes, days_of_week, days_of_month, months])"
   ]
  },
  {
   "cell_type": "code",
   "execution_count": null,
   "metadata": {},
   "outputs": [],
   "source": []
  }
 ],
 "metadata": {
  "kernelspec": {
   "display_name": "Python 3",
   "language": "python",
   "name": "python3"
  },
  "language_info": {
   "codemirror_mode": {
    "name": "ipython",
    "version": 3
   },
   "file_extension": ".py",
   "mimetype": "text/x-python",
   "name": "python",
   "nbconvert_exporter": "python",
   "pygments_lexer": "ipython3",
   "version": "3.6.6"
  }
 },
 "nbformat": 4,
 "nbformat_minor": 2
}
